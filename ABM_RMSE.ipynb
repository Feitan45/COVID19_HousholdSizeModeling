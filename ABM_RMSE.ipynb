{
  "nbformat": 4,
  "nbformat_minor": 0,
  "metadata": {
    "colab": {
      "name": "ABM_RMSE.ipynb",
      "provenance": [],
      "collapsed_sections": [],
      "mount_file_id": "1H0w-VlZmdQFvIpdxHOeeJ_x7gbq8kk8G",
      "authorship_tag": "ABX9TyNLWE7rsnbx4+tv5GrL2L5x",
      "include_colab_link": true
    },
    "kernelspec": {
      "name": "python3",
      "display_name": "Python 3"
    }
  },
  "cells": [
    {
      "cell_type": "markdown",
      "metadata": {
        "id": "view-in-github",
        "colab_type": "text"
      },
      "source": [
        "<a href=\"https://colab.research.google.com/github/he-yilan/COVID19_HousholdSizeModeling/blob/master/ABM_RMSE.ipynb\" target=\"_parent\"><img src=\"https://colab.research.google.com/assets/colab-badge.svg\" alt=\"Open In Colab\"/></a>"
      ]
    },
    {
      "cell_type": "markdown",
      "metadata": {
        "id": "fFuCT_Rzti-J",
        "colab_type": "text"
      },
      "source": [
        "#RMSE of Agent-Based Simulation of COVID-19\n",
        "Source for the agent-based model (ABM): <br>\n",
        "Prof. Dr. Petrônio Cândido de Lima e Silva (petronio.candido@ifnmg.edu.br)\n",
        "Experiments for the post published on Towards Data Science, available at https://towardsdatascience.com/agent-based-simulation-of-covid-19-health-and-economical-effects-6aa4ae0ff397"
      ]
    },
    {
      "cell_type": "code",
      "metadata": {
        "id": "AJhIZNUEtarG",
        "colab_type": "code",
        "colab": {}
      },
      "source": [
        "import math\n",
        "import pandas as pd\n",
        "import matplotlib.pyplot as plt\n",
        "from sklearn.metrics import mean_squared_error\n",
        "from math import sqrt"
      ],
      "execution_count": 30,
      "outputs": []
    },
    {
      "cell_type": "code",
      "metadata": {
        "id": "HOgShZwMt2fu",
        "colab_type": "code",
        "colab": {
          "base_uri": "https://localhost:8080/",
          "height": 34
        },
        "outputId": "cbc2afff-2b1a-49a7-f49f-71da2936bf34"
      },
      "source": [
        "from google.colab import drive\n",
        "drive.mount('/content/drive')"
      ],
      "execution_count": 31,
      "outputs": [
        {
          "output_type": "stream",
          "text": [
            "Drive already mounted at /content/drive; to attempt to forcibly remount, call drive.mount(\"/content/drive\", force_remount=True).\n"
          ],
          "name": "stdout"
        }
      ]
    },
    {
      "cell_type": "markdown",
      "metadata": {
        "id": "RvmG9Lva54Rn",
        "colab_type": "text"
      },
      "source": [
        "##NYT\n"
      ]
    },
    {
      "cell_type": "code",
      "metadata": {
        "id": "QMCeISq-70Qp",
        "colab_type": "code",
        "colab": {}
      },
      "source": [
        "IRLinfected = [] #COVID-19 cases according to The NYT\n",
        "IRLdeaths = [] #COVID-19 deaths according to The NYT\n",
        "infected = [] #COVID-19 cases according to the ABM\n",
        "deaths = [] #COVID-19 deaths according to the ABM"
      ],
      "execution_count": 32,
      "outputs": []
    },
    {
      "cell_type": "code",
      "metadata": {
        "id": "2QptuEX_uPid",
        "colab_type": "code",
        "colab": {
          "base_uri": "https://localhost:8080/",
          "height": 700
        },
        "outputId": "b4abaf53-1af0-4ad5-fc4d-36ff8752f491"
      },
      "source": [
        "data = pd.read_csv('/content/drive/My Drive/Data/us 21.csv')\n",
        "\n",
        "for i in range(len(data.cases)):\n",
        "  IRLinfected.insert(i, data.cases[i])\n",
        "\n",
        "for i in range(len(data.deaths)):\n",
        "  IRLdeaths.insert(i, data.deaths[i])\n",
        "\n",
        "data"
      ],
      "execution_count": 33,
      "outputs": [
        {
          "output_type": "execute_result",
          "data": {
            "text/html": [
              "<div>\n",
              "<style scoped>\n",
              "    .dataframe tbody tr th:only-of-type {\n",
              "        vertical-align: middle;\n",
              "    }\n",
              "\n",
              "    .dataframe tbody tr th {\n",
              "        vertical-align: top;\n",
              "    }\n",
              "\n",
              "    .dataframe thead th {\n",
              "        text-align: right;\n",
              "    }\n",
              "</style>\n",
              "<table border=\"1\" class=\"dataframe\">\n",
              "  <thead>\n",
              "    <tr style=\"text-align: right;\">\n",
              "      <th></th>\n",
              "      <th>date</th>\n",
              "      <th>cases</th>\n",
              "      <th>deaths</th>\n",
              "    </tr>\n",
              "  </thead>\n",
              "  <tbody>\n",
              "    <tr>\n",
              "      <th>0</th>\n",
              "      <td>2020/7/1</td>\n",
              "      <td>2703296</td>\n",
              "      <td>128104</td>\n",
              "    </tr>\n",
              "    <tr>\n",
              "      <th>1</th>\n",
              "      <td>2020/7/2</td>\n",
              "      <td>2758851</td>\n",
              "      <td>128827</td>\n",
              "    </tr>\n",
              "    <tr>\n",
              "      <th>2</th>\n",
              "      <td>2020/7/3</td>\n",
              "      <td>2815374</td>\n",
              "      <td>129417</td>\n",
              "    </tr>\n",
              "    <tr>\n",
              "      <th>3</th>\n",
              "      <td>2020/7/4</td>\n",
              "      <td>2866014</td>\n",
              "      <td>129679</td>\n",
              "    </tr>\n",
              "    <tr>\n",
              "      <th>4</th>\n",
              "      <td>2020/7/5</td>\n",
              "      <td>2910780</td>\n",
              "      <td>129941</td>\n",
              "    </tr>\n",
              "    <tr>\n",
              "      <th>5</th>\n",
              "      <td>2020/7/6</td>\n",
              "      <td>2958095</td>\n",
              "      <td>130332</td>\n",
              "    </tr>\n",
              "    <tr>\n",
              "      <th>6</th>\n",
              "      <td>2020/7/7</td>\n",
              "      <td>3012252</td>\n",
              "      <td>131290</td>\n",
              "    </tr>\n",
              "    <tr>\n",
              "      <th>7</th>\n",
              "      <td>2020/7/8</td>\n",
              "      <td>3071711</td>\n",
              "      <td>132238</td>\n",
              "    </tr>\n",
              "    <tr>\n",
              "      <th>8</th>\n",
              "      <td>2020/7/9</td>\n",
              "      <td>3131610</td>\n",
              "      <td>133079</td>\n",
              "    </tr>\n",
              "    <tr>\n",
              "      <th>9</th>\n",
              "      <td>2020/7/10</td>\n",
              "      <td>3199837</td>\n",
              "      <td>133907</td>\n",
              "    </tr>\n",
              "    <tr>\n",
              "      <th>10</th>\n",
              "      <td>2020/7/11</td>\n",
              "      <td>3260565</td>\n",
              "      <td>134582</td>\n",
              "    </tr>\n",
              "    <tr>\n",
              "      <th>11</th>\n",
              "      <td>2020/7/12</td>\n",
              "      <td>3318372</td>\n",
              "      <td>134977</td>\n",
              "    </tr>\n",
              "    <tr>\n",
              "      <th>12</th>\n",
              "      <td>2020/7/13</td>\n",
              "      <td>3379943</td>\n",
              "      <td>135402</td>\n",
              "    </tr>\n",
              "    <tr>\n",
              "      <th>13</th>\n",
              "      <td>2020/7/14</td>\n",
              "      <td>3445544</td>\n",
              "      <td>136356</td>\n",
              "    </tr>\n",
              "    <tr>\n",
              "      <th>14</th>\n",
              "      <td>2020/7/15</td>\n",
              "      <td>3513892</td>\n",
              "      <td>137327</td>\n",
              "    </tr>\n",
              "    <tr>\n",
              "      <th>15</th>\n",
              "      <td>2020/7/16</td>\n",
              "      <td>3589589</td>\n",
              "      <td>138285</td>\n",
              "    </tr>\n",
              "    <tr>\n",
              "      <th>16</th>\n",
              "      <td>2020/7/17</td>\n",
              "      <td>3660512</td>\n",
              "      <td>139186</td>\n",
              "    </tr>\n",
              "    <tr>\n",
              "      <th>17</th>\n",
              "      <td>2020/7/18</td>\n",
              "      <td>3722966</td>\n",
              "      <td>139961</td>\n",
              "    </tr>\n",
              "    <tr>\n",
              "      <th>18</th>\n",
              "      <td>2020/7/19</td>\n",
              "      <td>3785241</td>\n",
              "      <td>140373</td>\n",
              "    </tr>\n",
              "    <tr>\n",
              "      <th>19</th>\n",
              "      <td>2020/7/20</td>\n",
              "      <td>3845124</td>\n",
              "      <td>140904</td>\n",
              "    </tr>\n",
              "    <tr>\n",
              "      <th>20</th>\n",
              "      <td>2020/7/21</td>\n",
              "      <td>3910398</td>\n",
              "      <td>142031</td>\n",
              "    </tr>\n",
              "  </tbody>\n",
              "</table>\n",
              "</div>"
            ],
            "text/plain": [
              "         date    cases  deaths\n",
              "0    2020/7/1  2703296  128104\n",
              "1    2020/7/2  2758851  128827\n",
              "2    2020/7/3  2815374  129417\n",
              "3    2020/7/4  2866014  129679\n",
              "4    2020/7/5  2910780  129941\n",
              "5    2020/7/6  2958095  130332\n",
              "6    2020/7/7  3012252  131290\n",
              "7    2020/7/8  3071711  132238\n",
              "8    2020/7/9  3131610  133079\n",
              "9   2020/7/10  3199837  133907\n",
              "10  2020/7/11  3260565  134582\n",
              "11  2020/7/12  3318372  134977\n",
              "12  2020/7/13  3379943  135402\n",
              "13  2020/7/14  3445544  136356\n",
              "14  2020/7/15  3513892  137327\n",
              "15  2020/7/16  3589589  138285\n",
              "16  2020/7/17  3660512  139186\n",
              "17  2020/7/18  3722966  139961\n",
              "18  2020/7/19  3785241  140373\n",
              "19  2020/7/20  3845124  140904\n",
              "20  2020/7/21  3910398  142031"
            ]
          },
          "metadata": {
            "tags": []
          },
          "execution_count": 33
        }
      ]
    },
    {
      "cell_type": "code",
      "metadata": {
        "id": "aO_A6PTmbEDQ",
        "colab_type": "code",
        "colab": {
          "base_uri": "https://localhost:8080/",
          "height": 419
        },
        "outputId": "1be6dbbd-ccf2-404f-d464-7935109daf21"
      },
      "source": [
        "predictions = pd.read_csv(\"/content/drive/My Drive/Data/scenario1.csv\")\n",
        "caseCount = 0\n",
        "deathCount = 0\n",
        "\n",
        "for i in range(len(predictions.Avg)):\n",
        "  if predictions.Metric[i] == \"Infected\":\n",
        "    numCases = predictions.Avg[i]*328239523\n",
        "    infected.insert(caseCount, numCases)\n",
        "    caseCount += 1\n",
        "  elif predictions.Metric[i] == \"Death\":\n",
        "    numDeaths = predictions.Avg[i]*328239523\n",
        "    deaths.insert(deathCount, numDeaths)\n",
        "    deathCount += 1\n",
        "\n",
        "predictions"
      ],
      "execution_count": 34,
      "outputs": [
        {
          "output_type": "execute_result",
          "data": {
            "text/html": [
              "<div>\n",
              "<style scoped>\n",
              "    .dataframe tbody tr th:only-of-type {\n",
              "        vertical-align: middle;\n",
              "    }\n",
              "\n",
              "    .dataframe tbody tr th {\n",
              "        vertical-align: top;\n",
              "    }\n",
              "\n",
              "    .dataframe thead th {\n",
              "        text-align: right;\n",
              "    }\n",
              "</style>\n",
              "<table border=\"1\" class=\"dataframe\">\n",
              "  <thead>\n",
              "    <tr style=\"text-align: right;\">\n",
              "      <th></th>\n",
              "      <th>Iteration</th>\n",
              "      <th>Metric</th>\n",
              "      <th>Min</th>\n",
              "      <th>Avg</th>\n",
              "      <th>Std</th>\n",
              "      <th>Max</th>\n",
              "    </tr>\n",
              "  </thead>\n",
              "  <tbody>\n",
              "    <tr>\n",
              "      <th>0</th>\n",
              "      <td>0</td>\n",
              "      <td>Susceptible</td>\n",
              "      <td>0.985168</td>\n",
              "      <td>0.985168</td>\n",
              "      <td>0.0</td>\n",
              "      <td>0.985168</td>\n",
              "    </tr>\n",
              "    <tr>\n",
              "      <th>1</th>\n",
              "      <td>0</td>\n",
              "      <td>Infected</td>\n",
              "      <td>0.005134</td>\n",
              "      <td>0.005134</td>\n",
              "      <td>0.0</td>\n",
              "      <td>0.005134</td>\n",
              "    </tr>\n",
              "    <tr>\n",
              "      <th>2</th>\n",
              "      <td>0</td>\n",
              "      <td>Recovered_Immune</td>\n",
              "      <td>0.009698</td>\n",
              "      <td>0.009698</td>\n",
              "      <td>0.0</td>\n",
              "      <td>0.009698</td>\n",
              "    </tr>\n",
              "    <tr>\n",
              "      <th>3</th>\n",
              "      <td>0</td>\n",
              "      <td>Death</td>\n",
              "      <td>0.000000</td>\n",
              "      <td>0.000000</td>\n",
              "      <td>0.0</td>\n",
              "      <td>0.000000</td>\n",
              "    </tr>\n",
              "    <tr>\n",
              "      <th>4</th>\n",
              "      <td>0</td>\n",
              "      <td>Asymptomatic</td>\n",
              "      <td>1.000000</td>\n",
              "      <td>1.000000</td>\n",
              "      <td>0.0</td>\n",
              "      <td>1.000000</td>\n",
              "    </tr>\n",
              "    <tr>\n",
              "      <th>...</th>\n",
              "      <td>...</td>\n",
              "      <td>...</td>\n",
              "      <td>...</td>\n",
              "      <td>...</td>\n",
              "      <td>...</td>\n",
              "      <td>...</td>\n",
              "    </tr>\n",
              "    <tr>\n",
              "      <th>247</th>\n",
              "      <td>20</td>\n",
              "      <td>Q1</td>\n",
              "      <td>8728.201578</td>\n",
              "      <td>8728.201578</td>\n",
              "      <td>0.0</td>\n",
              "      <td>8728.201578</td>\n",
              "    </tr>\n",
              "    <tr>\n",
              "      <th>248</th>\n",
              "      <td>20</td>\n",
              "      <td>Q2</td>\n",
              "      <td>19549.095592</td>\n",
              "      <td>19549.095592</td>\n",
              "      <td>0.0</td>\n",
              "      <td>19549.095592</td>\n",
              "    </tr>\n",
              "    <tr>\n",
              "      <th>249</th>\n",
              "      <td>20</td>\n",
              "      <td>Q3</td>\n",
              "      <td>31148.122030</td>\n",
              "      <td>31148.122030</td>\n",
              "      <td>0.0</td>\n",
              "      <td>31148.122030</td>\n",
              "    </tr>\n",
              "    <tr>\n",
              "      <th>250</th>\n",
              "      <td>20</td>\n",
              "      <td>Q4</td>\n",
              "      <td>50572.094620</td>\n",
              "      <td>50572.094620</td>\n",
              "      <td>0.0</td>\n",
              "      <td>50572.094620</td>\n",
              "    </tr>\n",
              "    <tr>\n",
              "      <th>251</th>\n",
              "      <td>20</td>\n",
              "      <td>Q5</td>\n",
              "      <td>143771.713872</td>\n",
              "      <td>143771.713872</td>\n",
              "      <td>0.0</td>\n",
              "      <td>143771.713872</td>\n",
              "    </tr>\n",
              "  </tbody>\n",
              "</table>\n",
              "<p>252 rows × 6 columns</p>\n",
              "</div>"
            ],
            "text/plain": [
              "     Iteration            Metric  ...  Std            Max\n",
              "0            0       Susceptible  ...  0.0       0.985168\n",
              "1            0          Infected  ...  0.0       0.005134\n",
              "2            0  Recovered_Immune  ...  0.0       0.009698\n",
              "3            0             Death  ...  0.0       0.000000\n",
              "4            0      Asymptomatic  ...  0.0       1.000000\n",
              "..         ...               ...  ...  ...            ...\n",
              "247         20                Q1  ...  0.0    8728.201578\n",
              "248         20                Q2  ...  0.0   19549.095592\n",
              "249         20                Q3  ...  0.0   31148.122030\n",
              "250         20                Q4  ...  0.0   50572.094620\n",
              "251         20                Q5  ...  0.0  143771.713872\n",
              "\n",
              "[252 rows x 6 columns]"
            ]
          },
          "metadata": {
            "tags": []
          },
          "execution_count": 34
        }
      ]
    },
    {
      "cell_type": "markdown",
      "metadata": {
        "id": "oQyp_k1W6zIJ",
        "colab_type": "text"
      },
      "source": [
        "###RMSE for number of cases"
      ]
    },
    {
      "cell_type": "code",
      "metadata": {
        "id": "H-IMt44qvFM3",
        "colab_type": "code",
        "colab": {
          "base_uri": "https://localhost:8080/",
          "height": 34
        },
        "outputId": "2a68d2e3-9774-4a60-f666-032093db69e6"
      },
      "source": [
        "rmse = sqrt(mean_squared_error(IRLinfected, infected)) #calculating root-mean-square error (RMSE)\n",
        "print(rmse)"
      ],
      "execution_count": 35,
      "outputs": [
        {
          "output_type": "stream",
          "text": [
            "635048.6452500125\n"
          ],
          "name": "stdout"
        }
      ]
    },
    {
      "cell_type": "code",
      "metadata": {
        "id": "qeFSN83u76c1",
        "colab_type": "code",
        "colab": {
          "base_uri": "https://localhost:8080/",
          "height": 295
        },
        "outputId": "8e7c5e5f-1d04-43bc-bc6f-0e0413bab83b"
      },
      "source": [
        "x = [0,1,2,3,4,5,6,7,8,9,10,11,12,13,14,15,16,17,18,19,20]\n",
        "\n",
        "y1 = IRLinfected\n",
        "y2 = infected\n",
        "\n",
        "plt.plot(x, y1, label=\"NYT Data\")\n",
        "plt.plot(x, y2, label=\"ABM Case Predictions\")\n",
        "\n",
        "plt.xlabel(\"Days from July 1, 2020\")\n",
        "plt.ylabel(\"Number of Cases (Millions)\")\n",
        "plt.title(\"ABM Case Predictions vs. NYT Data\")\n",
        "\n",
        "plt.legend()\n",
        "plt.savefig('NYTcases.png', dpi = 300)\n",
        "plt.show()"
      ],
      "execution_count": 36,
      "outputs": [
        {
          "output_type": "display_data",
          "data": {
            "image/png": "[encoded data removed]",
            "text/plain": [
              "<Figure size 432x288 with 1 Axes>"
            ]
          },
          "metadata": {
            "tags": [],
            "needs_background": "light"
          }
        }
      ]
    },
    {
      "cell_type": "markdown",
      "metadata": {
        "id": "2B45FPD-7Gp7",
        "colab_type": "text"
      },
      "source": [
        "###RMSE for number of deaths"
      ]
    },
    {
      "cell_type": "code",
      "metadata": {
        "id": "5GoJnA4rxQdd",
        "colab_type": "code",
        "colab": {
          "base_uri": "https://localhost:8080/",
          "height": 34
        },
        "outputId": "aa790fb3-7fd6-40d8-80c7-32ab7417f9bb"
      },
      "source": [
        "rmse = sqrt(mean_squared_error(IRLdeaths, deaths)) #calculating RMSE\n",
        "print(rmse)"
      ],
      "execution_count": 37,
      "outputs": [
        {
          "output_type": "stream",
          "text": [
            "85381.58640507549\n"
          ],
          "name": "stdout"
        }
      ]
    },
    {
      "cell_type": "code",
      "metadata": {
        "id": "4BpyGXDH8ov9",
        "colab_type": "code",
        "colab": {
          "base_uri": "https://localhost:8080/",
          "height": 295
        },
        "outputId": "4bfe21cd-9e6b-4e03-87e8-da2c67534c43"
      },
      "source": [
        "x = x = [0,1,2,3,4,5,6,7,8,9,10,11,12,13,14,15,16,17,18,19,20]\n",
        "\n",
        "y1 = IRLdeaths\n",
        "y2 = deaths\n",
        "\n",
        "plt.plot(x, y1, label=\"NYT Data\")\n",
        "plt.plot(x, y2, label=\"ABM Death Predictions\")\n",
        "\n",
        "plt.xlabel(\"Days from July 1, 2020\")\n",
        "plt.ylabel(\"Number of Deaths\")\n",
        "plt.title(\"ABM Death Predictions vs. NYT Data\")\n",
        "\n",
        "plt.legend()\n",
        "plt.savefig('NYTdeaths.png', dpi = 300)\n",
        "plt.show()"
      ],
      "execution_count": 38,
      "outputs": [
        {
          "output_type": "display_data",
          "data": {
            "image/png": "[encoded data removed]",
            "text/plain": [
              "<Figure size 432x288 with 1 Axes>"
            ]
          },
          "metadata": {
            "tags": [],
            "needs_background": "light"
          }
        }
      ]
    },
    {
      "cell_type": "markdown",
      "metadata": {
        "id": "-qfAgKjC58Dw",
        "colab_type": "text"
      },
      "source": [
        "##Wikipedia\n"
      ]
    },
    {
      "cell_type": "code",
      "metadata": {
        "id": "XjephrY272r1",
        "colab_type": "code",
        "colab": {}
      },
      "source": [
        "IRLinfected = [] #COVID-19 cases according to Wikipedia\n",
        "IRLdeaths = [] #COVID-19 deaths according to Wikipedia\n",
        "infected = [] #COVID-19 cases according to the ABM\n",
        "deaths = [] #COVID-19 deaths according to the ABM"
      ],
      "execution_count": 39,
      "outputs": []
    },
    {
      "cell_type": "code",
      "metadata": {
        "id": "v-9knsY76X91",
        "colab_type": "code",
        "colab": {
          "base_uri": "https://localhost:8080/",
          "height": 700
        },
        "outputId": "4bb8b211-68ce-4fd5-d75b-4553101844e0"
      },
      "source": [
        "data = pd.read_csv('/content/drive/My Drive/Data/wikipedia21 - Sheet1.csv')\n",
        "\n",
        "for i in range(len(data.cases)):\n",
        "  IRLinfected.insert(i, data.cases[i])\n",
        "\n",
        "for i in range(len(data.deaths)):\n",
        "  IRLdeaths.insert(i, data.deaths[i])\n",
        "\n",
        "data"
      ],
      "execution_count": 40,
      "outputs": [
        {
          "output_type": "execute_result",
          "data": {
            "text/html": [
              "<div>\n",
              "<style scoped>\n",
              "    .dataframe tbody tr th:only-of-type {\n",
              "        vertical-align: middle;\n",
              "    }\n",
              "\n",
              "    .dataframe tbody tr th {\n",
              "        vertical-align: top;\n",
              "    }\n",
              "\n",
              "    .dataframe thead th {\n",
              "        text-align: right;\n",
              "    }\n",
              "</style>\n",
              "<table border=\"1\" class=\"dataframe\">\n",
              "  <thead>\n",
              "    <tr style=\"text-align: right;\">\n",
              "      <th></th>\n",
              "      <th>Date</th>\n",
              "      <th>cases</th>\n",
              "      <th>deaths</th>\n",
              "    </tr>\n",
              "  </thead>\n",
              "  <tbody>\n",
              "    <tr>\n",
              "      <th>0</th>\n",
              "      <td>7/1/2020</td>\n",
              "      <td>2640626</td>\n",
              "      <td>117698</td>\n",
              "    </tr>\n",
              "    <tr>\n",
              "      <th>1</th>\n",
              "      <td>7/2/2020</td>\n",
              "      <td>2695495</td>\n",
              "      <td>118369</td>\n",
              "    </tr>\n",
              "    <tr>\n",
              "      <th>2</th>\n",
              "      <td>7/3/2020</td>\n",
              "      <td>2752704</td>\n",
              "      <td>118979</td>\n",
              "    </tr>\n",
              "    <tr>\n",
              "      <th>3</th>\n",
              "      <td>7/4/2020</td>\n",
              "      <td>2803397</td>\n",
              "      <td>119252</td>\n",
              "    </tr>\n",
              "    <tr>\n",
              "      <th>4</th>\n",
              "      <td>7/5/2020</td>\n",
              "      <td>2846350</td>\n",
              "      <td>119464</td>\n",
              "    </tr>\n",
              "    <tr>\n",
              "      <th>5</th>\n",
              "      <td>7/6/2020</td>\n",
              "      <td>2893083</td>\n",
              "      <td>119698</td>\n",
              "    </tr>\n",
              "    <tr>\n",
              "      <th>6</th>\n",
              "      <td>7/7/2020</td>\n",
              "      <td>2944191</td>\n",
              "      <td>120615</td>\n",
              "    </tr>\n",
              "    <tr>\n",
              "      <th>7</th>\n",
              "      <td>7/8/2020</td>\n",
              "      <td>3006650</td>\n",
              "      <td>121428</td>\n",
              "    </tr>\n",
              "    <tr>\n",
              "      <th>8</th>\n",
              "      <td>7/9/2020</td>\n",
              "      <td>3064093</td>\n",
              "      <td>122296</td>\n",
              "    </tr>\n",
              "    <tr>\n",
              "      <th>9</th>\n",
              "      <td>7/10/2020</td>\n",
              "      <td>3131114</td>\n",
              "      <td>123151</td>\n",
              "    </tr>\n",
              "    <tr>\n",
              "      <th>10</th>\n",
              "      <td>7/11/2020</td>\n",
              "      <td>3193522</td>\n",
              "      <td>123869</td>\n",
              "    </tr>\n",
              "    <tr>\n",
              "      <th>11</th>\n",
              "      <td>7/12/2020</td>\n",
              "      <td>3254486</td>\n",
              "      <td>124346</td>\n",
              "    </tr>\n",
              "    <tr>\n",
              "      <th>12</th>\n",
              "      <td>7/13/2020</td>\n",
              "      <td>3312422</td>\n",
              "      <td>124628</td>\n",
              "    </tr>\n",
              "    <tr>\n",
              "      <th>13</th>\n",
              "      <td>7/14/2020</td>\n",
              "      <td>3374256</td>\n",
              "      <td>125413</td>\n",
              "    </tr>\n",
              "    <tr>\n",
              "      <th>14</th>\n",
              "      <td>7/15/2020</td>\n",
              "      <td>3439626</td>\n",
              "      <td>126286</td>\n",
              "    </tr>\n",
              "    <tr>\n",
              "      <th>15</th>\n",
              "      <td>7/16/2020</td>\n",
              "      <td>3509610</td>\n",
              "      <td>127210</td>\n",
              "    </tr>\n",
              "    <tr>\n",
              "      <th>16</th>\n",
              "      <td>7/17/2020</td>\n",
              "      <td>3585701</td>\n",
              "      <td>128146</td>\n",
              "    </tr>\n",
              "    <tr>\n",
              "      <th>17</th>\n",
              "      <td>7/18/2020</td>\n",
              "      <td>3651090</td>\n",
              "      <td>129025</td>\n",
              "    </tr>\n",
              "    <tr>\n",
              "      <th>18</th>\n",
              "      <td>7/19/2020</td>\n",
              "      <td>3714681</td>\n",
              "      <td>129537</td>\n",
              "    </tr>\n",
              "    <tr>\n",
              "      <th>19</th>\n",
              "      <td>7/20/2020</td>\n",
              "      <td>3770577</td>\n",
              "      <td>129927</td>\n",
              "    </tr>\n",
              "    <tr>\n",
              "      <th>20</th>\n",
              "      <td>7/21/2020</td>\n",
              "      <td>3834073</td>\n",
              "      <td>130966</td>\n",
              "    </tr>\n",
              "  </tbody>\n",
              "</table>\n",
              "</div>"
            ],
            "text/plain": [
              "         Date    cases  deaths\n",
              "0    7/1/2020  2640626  117698\n",
              "1    7/2/2020  2695495  118369\n",
              "2    7/3/2020  2752704  118979\n",
              "3    7/4/2020  2803397  119252\n",
              "4    7/5/2020  2846350  119464\n",
              "5    7/6/2020  2893083  119698\n",
              "6    7/7/2020  2944191  120615\n",
              "7    7/8/2020  3006650  121428\n",
              "8    7/9/2020  3064093  122296\n",
              "9   7/10/2020  3131114  123151\n",
              "10  7/11/2020  3193522  123869\n",
              "11  7/12/2020  3254486  124346\n",
              "12  7/13/2020  3312422  124628\n",
              "13  7/14/2020  3374256  125413\n",
              "14  7/15/2020  3439626  126286\n",
              "15  7/16/2020  3509610  127210\n",
              "16  7/17/2020  3585701  128146\n",
              "17  7/18/2020  3651090  129025\n",
              "18  7/19/2020  3714681  129537\n",
              "19  7/20/2020  3770577  129927\n",
              "20  7/21/2020  3834073  130966"
            ]
          },
          "metadata": {
            "tags": []
          },
          "execution_count": 40
        }
      ]
    },
    {
      "cell_type": "code",
      "metadata": {
        "id": "J7u16BS87ZND",
        "colab_type": "code",
        "colab": {
          "base_uri": "https://localhost:8080/",
          "height": 419
        },
        "outputId": "654e50fb-9f31-467c-c728-4177d922cc64"
      },
      "source": [
        "predictions = pd.read_csv(\"/content/drive/My Drive/Data/scenario1.csv\")\n",
        "caseCount = 0\n",
        "deathCount = 0\n",
        "\n",
        "for i in range(len(predictions.Avg)):\n",
        "  if predictions.Metric[i] == \"Infected\":\n",
        "    numCases = predictions.Avg[i]*328239523\n",
        "    infected.insert(caseCount, numCases)\n",
        "    caseCount += 1\n",
        "  elif predictions.Metric[i] == \"Death\":\n",
        "    numDeaths = predictions.Avg[i]*328239523\n",
        "    deaths.insert(deathCount, numDeaths)\n",
        "    deathCount += 1\n",
        "\n",
        "predictions"
      ],
      "execution_count": 41,
      "outputs": [
        {
          "output_type": "execute_result",
          "data": {
            "text/html": [
              "<div>\n",
              "<style scoped>\n",
              "    .dataframe tbody tr th:only-of-type {\n",
              "        vertical-align: middle;\n",
              "    }\n",
              "\n",
              "    .dataframe tbody tr th {\n",
              "        vertical-align: top;\n",
              "    }\n",
              "\n",
              "    .dataframe thead th {\n",
              "        text-align: right;\n",
              "    }\n",
              "</style>\n",
              "<table border=\"1\" class=\"dataframe\">\n",
              "  <thead>\n",
              "    <tr style=\"text-align: right;\">\n",
              "      <th></th>\n",
              "      <th>Iteration</th>\n",
              "      <th>Metric</th>\n",
              "      <th>Min</th>\n",
              "      <th>Avg</th>\n",
              "      <th>Std</th>\n",
              "      <th>Max</th>\n",
              "    </tr>\n",
              "  </thead>\n",
              "  <tbody>\n",
              "    <tr>\n",
              "      <th>0</th>\n",
              "      <td>0</td>\n",
              "      <td>Susceptible</td>\n",
              "      <td>0.985168</td>\n",
              "      <td>0.985168</td>\n",
              "      <td>0.0</td>\n",
              "      <td>0.985168</td>\n",
              "    </tr>\n",
              "    <tr>\n",
              "      <th>1</th>\n",
              "      <td>0</td>\n",
              "      <td>Infected</td>\n",
              "      <td>0.005134</td>\n",
              "      <td>0.005134</td>\n",
              "      <td>0.0</td>\n",
              "      <td>0.005134</td>\n",
              "    </tr>\n",
              "    <tr>\n",
              "      <th>2</th>\n",
              "      <td>0</td>\n",
              "      <td>Recovered_Immune</td>\n",
              "      <td>0.009698</td>\n",
              "      <td>0.009698</td>\n",
              "      <td>0.0</td>\n",
              "      <td>0.009698</td>\n",
              "    </tr>\n",
              "    <tr>\n",
              "      <th>3</th>\n",
              "      <td>0</td>\n",
              "      <td>Death</td>\n",
              "      <td>0.000000</td>\n",
              "      <td>0.000000</td>\n",
              "      <td>0.0</td>\n",
              "      <td>0.000000</td>\n",
              "    </tr>\n",
              "    <tr>\n",
              "      <th>4</th>\n",
              "      <td>0</td>\n",
              "      <td>Asymptomatic</td>\n",
              "      <td>1.000000</td>\n",
              "      <td>1.000000</td>\n",
              "      <td>0.0</td>\n",
              "      <td>1.000000</td>\n",
              "    </tr>\n",
              "    <tr>\n",
              "      <th>...</th>\n",
              "      <td>...</td>\n",
              "      <td>...</td>\n",
              "      <td>...</td>\n",
              "      <td>...</td>\n",
              "      <td>...</td>\n",
              "      <td>...</td>\n",
              "    </tr>\n",
              "    <tr>\n",
              "      <th>247</th>\n",
              "      <td>20</td>\n",
              "      <td>Q1</td>\n",
              "      <td>8728.201578</td>\n",
              "      <td>8728.201578</td>\n",
              "      <td>0.0</td>\n",
              "      <td>8728.201578</td>\n",
              "    </tr>\n",
              "    <tr>\n",
              "      <th>248</th>\n",
              "      <td>20</td>\n",
              "      <td>Q2</td>\n",
              "      <td>19549.095592</td>\n",
              "      <td>19549.095592</td>\n",
              "      <td>0.0</td>\n",
              "      <td>19549.095592</td>\n",
              "    </tr>\n",
              "    <tr>\n",
              "      <th>249</th>\n",
              "      <td>20</td>\n",
              "      <td>Q3</td>\n",
              "      <td>31148.122030</td>\n",
              "      <td>31148.122030</td>\n",
              "      <td>0.0</td>\n",
              "      <td>31148.122030</td>\n",
              "    </tr>\n",
              "    <tr>\n",
              "      <th>250</th>\n",
              "      <td>20</td>\n",
              "      <td>Q4</td>\n",
              "      <td>50572.094620</td>\n",
              "      <td>50572.094620</td>\n",
              "      <td>0.0</td>\n",
              "      <td>50572.094620</td>\n",
              "    </tr>\n",
              "    <tr>\n",
              "      <th>251</th>\n",
              "      <td>20</td>\n",
              "      <td>Q5</td>\n",
              "      <td>143771.713872</td>\n",
              "      <td>143771.713872</td>\n",
              "      <td>0.0</td>\n",
              "      <td>143771.713872</td>\n",
              "    </tr>\n",
              "  </tbody>\n",
              "</table>\n",
              "<p>252 rows × 6 columns</p>\n",
              "</div>"
            ],
            "text/plain": [
              "     Iteration            Metric  ...  Std            Max\n",
              "0            0       Susceptible  ...  0.0       0.985168\n",
              "1            0          Infected  ...  0.0       0.005134\n",
              "2            0  Recovered_Immune  ...  0.0       0.009698\n",
              "3            0             Death  ...  0.0       0.000000\n",
              "4            0      Asymptomatic  ...  0.0       1.000000\n",
              "..         ...               ...  ...  ...            ...\n",
              "247         20                Q1  ...  0.0    8728.201578\n",
              "248         20                Q2  ...  0.0   19549.095592\n",
              "249         20                Q3  ...  0.0   31148.122030\n",
              "250         20                Q4  ...  0.0   50572.094620\n",
              "251         20                Q5  ...  0.0  143771.713872\n",
              "\n",
              "[252 rows x 6 columns]"
            ]
          },
          "metadata": {
            "tags": []
          },
          "execution_count": 41
        }
      ]
    },
    {
      "cell_type": "markdown",
      "metadata": {
        "id": "iTtJ_yqm8ODA",
        "colab_type": "text"
      },
      "source": [
        "###RMSE for number of cases"
      ]
    },
    {
      "cell_type": "code",
      "metadata": {
        "id": "Hw55gJM57rZc",
        "colab_type": "code",
        "colab": {
          "base_uri": "https://localhost:8080/",
          "height": 34
        },
        "outputId": "faba428c-b811-463d-c25e-e6f6701785f5"
      },
      "source": [
        "rmse = sqrt(mean_squared_error(IRLinfected, infected)) #calculating RMSE\n",
        "print(rmse)"
      ],
      "execution_count": 42,
      "outputs": [
        {
          "output_type": "stream",
          "text": [
            "575275.501112363\n"
          ],
          "name": "stdout"
        }
      ]
    },
    {
      "cell_type": "code",
      "metadata": {
        "id": "EEEu2wX98HiR",
        "colab_type": "code",
        "colab": {
          "base_uri": "https://localhost:8080/",
          "height": 295
        },
        "outputId": "084c28b7-40da-4ea5-a5bb-19fccb03b1ce"
      },
      "source": [
        "x = [0,1,2,3,4,5,6,7,8,9,10,11,12,13,14,15,16,17,18,19,20]\n",
        "\n",
        "y1 = IRLinfected\n",
        "y2 = infected\n",
        "\n",
        "plt.plot(x, y1, label=\"Wikipedia Data\")\n",
        "plt.plot(x, y2, label=\"ABM Case Predictions\")\n",
        "\n",
        "plt.xlabel(\"Days from July 1, 2020\")\n",
        "plt.ylabel(\"Number of Cases (Millions)\")\n",
        "plt.title(\"ABM Case Predictions vs. Wikipedia Data\")\n",
        "\n",
        "plt.legend()\n",
        "plt.savefig('Wikicases.png', dpi = 300)\n",
        "plt.show()"
      ],
      "execution_count": 43,
      "outputs": [
        {
          "output_type": "display_data",
          "data": {
            "image/png": "[encoded data removed]",
            "text/plain": [
              "<Figure size 432x288 with 1 Axes>"
            ]
          },
          "metadata": {
            "tags": [],
            "needs_background": "light"
          }
        }
      ]
    },
    {
      "cell_type": "markdown",
      "metadata": {
        "id": "XxhpTiSd9O5q",
        "colab_type": "text"
      },
      "source": [
        "###RMSE for number of deaths"
      ]
    },
    {
      "cell_type": "code",
      "metadata": {
        "id": "1KOG8S8w9Qs4",
        "colab_type": "code",
        "colab": {
          "base_uri": "https://localhost:8080/",
          "height": 34
        },
        "outputId": "af58e643-a8ec-49e1-cdf5-db54ebddc34e"
      },
      "source": [
        "rmse = sqrt(mean_squared_error(IRLdeaths, deaths)) #calculating RMSE\n",
        "print(rmse)"
      ],
      "execution_count": 44,
      "outputs": [
        {
          "output_type": "stream",
          "text": [
            "85006.41717142622\n"
          ],
          "name": "stdout"
        }
      ]
    },
    {
      "cell_type": "code",
      "metadata": {
        "id": "SFq-oZyt9UQX",
        "colab_type": "code",
        "colab": {
          "base_uri": "https://localhost:8080/",
          "height": 295
        },
        "outputId": "87ebe162-e302-4a92-d0e7-b10c56571bab"
      },
      "source": [
        "x = x = [0,1,2,3,4,5,6,7,8,9,10,11,12,13,14,15,16,17,18,19,20]\n",
        "\n",
        "y1 = IRLdeaths\n",
        "y2 = deaths\n",
        "\n",
        "plt.plot(x, y1, label=\"Wikipedia Data\")\n",
        "plt.plot(x, y2, label=\"ABM Death Predictions\")\n",
        "\n",
        "plt.xlabel(\"Days from July 1, 2020\")\n",
        "plt.ylabel(\"Number of Deaths\")\n",
        "plt.title(\"ABM Death Predictions vs. Wikipedia Data\")\n",
        "\n",
        "plt.legend()\n",
        "plt.savefig('Wikideaths.png', dpi = 300)\n",
        "plt.show()"
      ],
      "execution_count": 45,
      "outputs": [
        {
          "output_type": "display_data",
          "data": {
            "image/png": "[encoded data removed]",
            "text/plain": [
              "<Figure size 432x288 with 1 Axes>"
            ]
          },
          "metadata": {
            "tags": [],
            "needs_background": "light"
          }
        }
      ]
    }
  ]
}