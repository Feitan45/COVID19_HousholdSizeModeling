{
  "nbformat": 4,
  "nbformat_minor": 0,
  "metadata": {
    "colab": {
      "name": "SEIR_RMSD.ipynb",
      "provenance": [],
      "collapsed_sections": [],
      "include_colab_link": true
    },
    "kernelspec": {
      "name": "python3",
      "display_name": "Python 3"
    }
  },
  "cells": [
    {
      "cell_type": "markdown",
      "metadata": {
        "id": "view-in-github",
        "colab_type": "text"
      },
      "source": [
        "<a href=\"https://colab.research.google.com/github/he-yilan/COVID19_HousholdSizeModeling/blob/master/SEIR_RMSD.ipynb\" target=\"_parent\"><img src=\"https://colab.research.google.com/assets/colab-badge.svg\" alt=\"Open In Colab\"/></a>"
      ]
    },
    {
      "cell_type": "code",
      "metadata": {
        "id": "ndeOM8xO_ek4",
        "colab_type": "code",
        "colab": {}
      },
      "source": [
        "import math\n",
        "import pandas as pd\n",
        "import matplotlib.pyplot as plt\n",
        "import numpy as np\n",
        "from sklearn.metrics import mean_squared_error\n",
        "from math import sqrt\n",
        "\n",
        "wikipedia = [2640626, 2695495, 2752704,2803397,2846350,2893083,2944191,3006650,3064093,3131114,3193522,\n",
        "             3254486,3312422,3374256,3439626,3509610,3585701,3651090,3714681,3770577,3834073] # wikipedia infected cases\n",
        "\n",
        "#SEIR model infected case predictions. Ran for 184 days, extracted the last 21 days.             \n",
        "Outputs = [1.180287903819339135e+03,\n",
        "1.199117599830572999e+03,\n",
        "1.218316891611409801e+03,\n",
        "1.237893057204463275e+03,\n",
        "1.257853510043349843e+03,\n",
        "1.278205804118451397e+03,\n",
        "1.298957638403319379e+03,\n",
        "1.320116860809026321e+03,\n",
        "1.341691471844567332e+03,\n",
        "1.363689628102084953e+03,\n",
        "1.386119645646278059e+03,\n",
        "1.408990003361165691e+03,\n",
        "1.432309346289962377e+03,\n",
        "1.456086488992243176e+03,\n",
        "1.480330418934932140e+03,\n",
        "1.505050299928505183e+03,\n",
        "1.530255475616459535e+03,\n",
        "1.555955473023840568e+03,\n",
        "1.582160006169132885e+03,\n",
        "1.608878979742881256e+03,\n",
        "1.636122492855719656e+03]\n",
        " #New York Times  cases predictions.\n",
        "NYT_outputs = [2703296,2758851,2815374,2866014,2910780,2958095,3012252,3071711,3131610,3199837,3260565,3318372,3379943,\n",
        "3445544,3513892,3589589,3660512,3722966,3785241,3845124,3910398]\n",
        "\n"
      ],
      "execution_count": null,
      "outputs": []
    },
    {
      "cell_type": "code",
      "metadata": {
        "id": "odUEZUPQ9vn5",
        "colab_type": "code",
        "colab": {
          "base_uri": "https://localhost:8080/",
          "height": 122
        },
        "outputId": "04ec6e12-a04d-4474-e2f2-104adf8cc4e0"
      },
      "source": [
        "from google.colab import drive\n",
        "drive.mount('/content/drive')"
      ],
      "execution_count": null,
      "outputs": [
        {
          "output_type": "stream",
          "text": [
            "Go to this URL in a browser: https://accounts.google.com/o/oauth2/auth?client_id=947318989803-6bn6qk8qdgf4n4g3pfee6491hc0brc4i.apps.googleusercontent.com&redirect_uri=urn%3aietf%3awg%3aoauth%3a2.0%3aoob&scope=email%20https%3a%2f%2fwww.googleapis.com%2fauth%2fdocs.test%20https%3a%2f%2fwww.googleapis.com%2fauth%2fdrive%20https%3a%2f%2fwww.googleapis.com%2fauth%2fdrive.photos.readonly%20https%3a%2f%2fwww.googleapis.com%2fauth%2fpeopleapi.readonly&response_type=code\n",
            "\n",
            "Enter your authorization code:\n",
            "··········\n",
            "Mounted at /content/drive\n"
          ],
          "name": "stdout"
        }
      ]
    },
    {
      "cell_type": "code",
      "metadata": {
        "id": "m3VJX_kloGbH",
        "colab_type": "code",
        "colab": {
          "base_uri": "https://localhost:8080/",
          "height": 51
        },
        "outputId": "82f8cb8c-11be-46be-9736-3bfbc086f3a3"
      },
      "source": [
        "\"\"\"RMSE comparing New York Times data shown first, and the RMSE comparing wikipedia data is the latter.\"\"\"\n",
        "rms = sqrt(mean_squared_error(NYT_outputs, Outputs))\n",
        "print(rms)\n",
        "\n",
        "rms2 = sqrt(mean_squared_error(wikipedia, Outputs))\n",
        "print(rms2)"
      ],
      "execution_count": null,
      "outputs": [
        {
          "output_type": "stream",
          "text": [
            "3298474.4878713065\n",
            "3229754.933284211\n"
          ],
          "name": "stdout"
        }
      ]
    },
    {
      "cell_type": "code",
      "metadata": {
        "id": "PERgkeb1vT06",
        "colab_type": "code",
        "colab": {
          "base_uri": "https://localhost:8080/",
          "height": 295
        },
        "outputId": "519bbe11-e544-4598-ac51-8ad8bebe8344"
      },
      "source": [
        "#visualiziation of NYT and wikipedia Data comparped to the SEIR predictions\n",
        "\n",
        "x = [0,1,2,3,4,5,6,7,8,9,10,11,12,13,14,15,16,17,18,19,20]\n",
        "\n",
        "y1 = NYT_outputs\n",
        "y2 = wikipedia\n",
        "y3 = Outputs\n",
        "plt.plot(x, y1, label=\"NYT Data\")\n",
        "plt.plot(x, y2, label=\"wikipedia Predictions\")\n",
        "plt.plot(x, y3, label = \"SEIR Predictions\")\n",
        "\n",
        "plt.xlabel(\"Days from July 1, 2020\")\n",
        "plt.ylabel(\"Number of Cases\")\n",
        "plt.title(\"SEIR Predictions vs. NYT and Wikipedia Data\")\n",
        "\n",
        "\n",
        "\n",
        "plt.legend()\n",
        "plt.show()"
      ],
      "execution_count": null,
      "outputs": [
        {
          "output_type": "display_data",
          "data": {
            "image/png": "[encoded data removed]",
            "text/plain": [
              "<Figure size 432x288 with 1 Axes>"
            ]
          },
          "metadata": {
            "tags": [],
            "needs_background": "light"
          }
        }
      ]
    }
  ]
}